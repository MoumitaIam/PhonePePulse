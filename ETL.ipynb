{
 "cells": [
  {
   "cell_type": "markdown",
   "id": "17ab319b-1856-4f6c-b29d-af7c399c963a",
   "metadata": {},
   "source": [
    "<h1><center>Data Extraction from PhonePe Pulse Repo<center></h1>"
   ]
  },
  {
   "cell_type": "markdown",
   "id": "0234aa7d",
   "metadata": {},
   "source": [
    "<b> Function Chronology </b><br>"
   ]
  },
  {
   "cell_type": "markdown",
   "id": "ed28c4cf",
   "metadata": {},
   "source": [
    "<i>STEP 1</i>\n",
    "<ul>\n",
    "    <li>process()<i><b>[Entry point of the program]</b></i></li>\n",
    "    <ul>\n",
    "        <li>iterate_through_files()</li>\n",
    "        <ul>\n",
    "            <li>get_directory()</li>\n",
    "            <ul>\n",
    "                <li>read_json()</li>\n",
    "                <li>perform_extraction() <i><b>[As per parameter it goes to either of the below functions]</b></i></li>\n",
    "                <ul>\n",
    "                    <li>agg_insurance()</li>\n",
    "                    <li>agg_transaction()</li>\n",
    "                    <li>agg_user()</li>\n",
    "                    <li>map_insurance()</li>\n",
    "                    <li>map_transaction()</li>\n",
    "                    <li>map_user()</li>\n",
    "                    <li>top_insurance()</li>\n",
    "                    <li>top_transaction()</li>\n",
    "                    <li>top_user()</li>\n",
    "                    <ul>\n",
    "                        <li>insert_state_year_quarter()<i><b>[Each of the above extraction functions goes through this function to insert the state year and quarter]</b></i></li>\n",
    "                    </ul>\n",
    "                </ul>\n",
    "            </ul>\n",
    "        </ul>\n",
    "    </ul>\n",
    "    <li>save_to_csv()</li>\n",
    "</ul>\n",
    "\n",
    "<i>STEP 2</i>\n",
    "<ul>\n",
    "    <li>create table()</li>\n",
    "</ul>"
   ]
  },
  {
   "cell_type": "markdown",
   "id": "d6f43249",
   "metadata": {},
   "source": [
    "@@@@@@@@@@@@@@@@@@@@@@@@@@@@@@@@@@@@@@@@@@@@@@@@@@@@@@@@@@@@@@@@@@@@@@@@@@@"
   ]
  },
  {
   "cell_type": "markdown",
   "id": "c646a2bd",
   "metadata": {},
   "source": [
    "<b>Importing Libraries<b>"
   ]
  },
  {
   "cell_type": "code",
   "execution_count": 20,
   "id": "51da4c6b",
   "metadata": {},
   "outputs": [],
   "source": [
    "#Import necessary libraries\n",
    "import pandas as pd\n",
    "import mysql.connector as sql\n",
    "import os\n",
    "import git\n",
    "from pathlib import  Path"
   ]
  },
  {
   "cell_type": "markdown",
   "id": "04de61e5",
   "metadata": {},
   "source": [
    "<b>Clone Git Repository<b>"
   ]
  },
  {
   "cell_type": "code",
   "execution_count": 21,
   "id": "795cbe33",
   "metadata": {},
   "outputs": [],
   "source": [
    "# #Specify the directories\n",
    "# git_url = 'https://github.com/PhonePe/pulse.git'\n",
    "# cloned_directory = 'data/pulse_data'\n",
    "\n",
    "# #Clone\n",
    "# git.Repo.clone_from(git_url, cloned_directory)"
   ]
  },
  {
   "cell_type": "markdown",
   "id": "ed7ec085",
   "metadata": {},
   "source": [
    "<h1><center>DATA PROCESSING</center></h1>"
   ]
  },
  {
   "cell_type": "markdown",
   "id": "d4af8eee",
   "metadata": {},
   "source": [
    "<b>Declaring all the directories and the data dictionaries</b>\n",
    "\n",
    "1. Here we are declaring all the directories from which we have to extract the data. As the path is almost the same that is why we create a function which takes only the part that is different as parameter and then join with f string <br><br>\n",
    "2. The data dictionaries where we will save the data to change to dataframe"
   ]
  },
  {
   "cell_type": "code",
   "execution_count": 22,
   "id": "f0cdac90",
   "metadata": {},
   "outputs": [],
   "source": [
    "#Directories\n",
    "def get_directory(path):\n",
    "    return f'data/pulse_data/data/{path}/country/india/state'"
   ]
  },
  {
   "cell_type": "code",
   "execution_count": 23,
   "id": "ba499969",
   "metadata": {},
   "outputs": [],
   "source": [
    "#Data Dictionaries\n",
    "agg_insurance_data = {'States':[],'Years':[],'Quarters':[],'Policy_count':[],'Policy_amount':[]}\n",
    "agg_transaction_data = {'States':[],'Years':[],'Quarters':[],'Transaction_type':[],'Transaction_count':[], 'Transaction_amount':[] }\n",
    "agg_user_data = {'States':[],'Years':[],'Quarters':[],'Brands':[],'Registered_Users_per_brand':[],'Percentage':[]}\n",
    "\n",
    "map_insurance_data = {'States':[],'Years':[],'Quarters':[],'District':[],'Policy_count':[],'Policy_amount':[]}\n",
    "map_transaction_data = {'States':[],'Years':[],'Quarters':[],'District':[],'Transaction_count':[], 'Transaction_amount':[] }\n",
    "map_user_data = {'States':[],'Years':[],'Quarters':[],'District':[],'Registered_Users':[],'App_opens':[]}\n",
    "\n",
    "top_insurance_data = {'States':[],'Years':[],'Quarters':[],'Pincodes':[],'Policy_count':[],'Policy_amount':[]}\n",
    "top_transaction_data = {'States':[],'Years':[],'Quarters':[],'Pincodes':[],'Transaction_count':[], 'Transaction_amount':[] }\n",
    "top_user_data = {'States':[],'Years':[],'Quarters':[],'Pincodes':[],'Registered_Users':[]}"
   ]
  },
  {
   "cell_type": "markdown",
   "id": "a90e6435",
   "metadata": {},
   "source": [
    "<b>Defining necessary functions</b>\n",
    "\n",
    "1. read_json - This function takes a json file as parameter and returns the json data\n",
    "\n",
    "2. save_to_csv - This function takes a dictionary and name of the file as parameter and converts the dictionary to a pandas dataframe and dataframe to a csv file.\n",
    "It also return the converted dataframe"
   ]
  },
  {
   "cell_type": "code",
   "execution_count": 24,
   "id": "582621a0",
   "metadata": {},
   "outputs": [],
   "source": [
    "#Read JSON\n",
    "def read_json(path):\n",
    "    return pd.read_json(path)"
   ]
  },
  {
   "cell_type": "code",
   "execution_count": 25,
   "id": "083461ec",
   "metadata": {},
   "outputs": [],
   "source": [
    "#Save the dataframe to csv file\n",
    "def save_to_csv(file_dict,filename):\n",
    "    #Convert the dictionary to dataframe\n",
    "    df = pd.DataFrame(file_dict)\n",
    "    df.to_csv(f'data/csv_data/{filename}',index = False)\n",
    "    return df"
   ]
  },
  {
   "cell_type": "markdown",
   "id": "41806e2e",
   "metadata": {},
   "source": [
    "<b>Extraction Functions</b>\n",
    "\n",
    "1. This block contains all the functions that extracts data from the JSON file and saves it to a dictionary.\n",
    "Parameters are state, year, quarter and the json data\n",
    "\n",
    "2. Function to enter state, year and quarter as these values are common troughout the data"
   ]
  },
  {
   "cell_type": "code",
   "execution_count": 26,
   "id": "0d567f31",
   "metadata": {},
   "outputs": [],
   "source": [
    "#Function to enter state,year and quarter as they are common in all the data\n",
    "def insert_state_year_quarter(state,year,quarter,dict_file):\n",
    "    if '-' in state:\n",
    "        state = state.replace('-',' ')\n",
    "    dict_file['States'] .append(state.capitalize())\n",
    "\n",
    "    dict_file['Years'].append(int(year))\n",
    "    dict_file['Quarters'].append(quarter)"
   ]
  },
  {
   "cell_type": "code",
   "execution_count": 27,
   "id": "edc7c44d",
   "metadata": {},
   "outputs": [],
   "source": [
    "#Extract aggregated insurance\n",
    "def agg_insurance(state,year,quarter,year_json):\n",
    "    data = year_json['data']['transactionData']\n",
    "    if(data):\n",
    "        for i in data:\n",
    "            count = i['paymentInstruments'][0]['count']\n",
    "            amount = i['paymentInstruments'][0]['amount']\n",
    "            \n",
    "            insert_state_year_quarter(state,year,quarter,agg_insurance_data)\n",
    "            \n",
    "            agg_insurance_data['Policy_count'].append(count)\n",
    "            agg_insurance_data['Policy_amount'].append(amount)"
   ]
  },
  {
   "cell_type": "code",
   "execution_count": 28,
   "id": "14d88499",
   "metadata": {},
   "outputs": [],
   "source": [
    "#Extract aggregated transaction\n",
    "def agg_transaction(state,year,quarter,year_json):\n",
    "    data = year_json['data']['transactionData']\n",
    "    if(data):\n",
    "        for i in data:\n",
    "            type = i['name']\n",
    "            count = i['paymentInstruments'][0]['count']\n",
    "            amount = i['paymentInstruments'][0]['amount']\n",
    "            \n",
    "            insert_state_year_quarter(state,year,quarter,agg_transaction_data)\n",
    "\n",
    "            agg_transaction_data['Transaction_type'].append(type)\n",
    "            agg_transaction_data['Transaction_count'].append(count)\n",
    "            agg_transaction_data['Transaction_amount'].append(amount)"
   ]
  },
  {
   "cell_type": "code",
   "execution_count": 29,
   "id": "1ec0a73f",
   "metadata": {},
   "outputs": [],
   "source": [
    "#Extract aggregated user\n",
    "def agg_user(state,year,quarter,year_json):\n",
    "    data = year_json['data']['usersByDevice']\n",
    "    if(data):\n",
    "        for i in data:\n",
    "            brand = i['brand']\n",
    "            users = i['count']\n",
    "            percentage = i['percentage']\n",
    "            \n",
    "            insert_state_year_quarter(state,year,quarter,agg_user_data)\n",
    "            \n",
    "            agg_user_data['Brands'].append(brand)\n",
    "            agg_user_data['Percentage'].append(percentage)\n",
    "            agg_user_data['Registered_Users_per_brand'].append(users)\n"
   ]
  },
  {
   "cell_type": "code",
   "execution_count": 30,
   "id": "5ccd83c4",
   "metadata": {},
   "outputs": [],
   "source": [
    "#Extract map insurance\n",
    "def map_insurance(state,year,quarter,year_json):\n",
    "    data = year_json['data']['hoverDataList']\n",
    "    if(data):\n",
    "        for i in data:\n",
    "            count = i['metric'][0]['count']\n",
    "            amount = i['metric'][0]['amount']\n",
    "            district = i['name']\n",
    "            \n",
    "            insert_state_year_quarter(state,year,quarter,map_insurance_data)\n",
    "            \n",
    "            map_insurance_data['District'].append(district)\n",
    "            map_insurance_data['Policy_count'].append(count)\n",
    "            map_insurance_data['Policy_amount'].append(amount)"
   ]
  },
  {
   "cell_type": "code",
   "execution_count": 31,
   "id": "8f371b1c",
   "metadata": {},
   "outputs": [],
   "source": [
    "#Extract map transaction\n",
    "def map_transaction(state,year,quarter,year_json):\n",
    "    data = year_json['data']['hoverDataList']\n",
    "    if(data):\n",
    "        for i in data:\n",
    "            district = i['name']\n",
    "            count = i['metric'][0]['count']\n",
    "            amount = i['metric'][0]['amount']\n",
    "            \n",
    "            insert_state_year_quarter(state,year,quarter,map_transaction_data)\n",
    "\n",
    "            map_transaction_data['District'].append(district)\n",
    "            map_transaction_data['Transaction_count'].append(count)\n",
    "            map_transaction_data['Transaction_amount'].append(amount)"
   ]
  },
  {
   "cell_type": "code",
   "execution_count": 32,
   "id": "31583039",
   "metadata": {},
   "outputs": [],
   "source": [
    "#Extract map user\n",
    "def map_user(state,year,quarter,year_json):\n",
    "    data = year_json['data']['hoverData']\n",
    "    if(data):\n",
    "        for i in data.items():\n",
    "            district = i[0]\n",
    "            users = i[1]['registeredUsers']\n",
    "            app_opens = i[1]['appOpens']\n",
    "            \n",
    "            insert_state_year_quarter(state,year,quarter,map_user_data)\n",
    "            \n",
    "            map_user_data['District'].append(district)\n",
    "            map_user_data['App_opens'].append(app_opens)\n",
    "            map_user_data['Registered_Users'].append(users)"
   ]
  },
  {
   "cell_type": "code",
   "execution_count": 33,
   "id": "1321ddf4",
   "metadata": {},
   "outputs": [],
   "source": [
    "#Extract top insurance\n",
    "def top_insurance(state,year,quarter,year_json):\n",
    "    data = year_json['data']['pincodes']\n",
    "    if(data):\n",
    "        for i in data:\n",
    "            pincode = i['entityName']\n",
    "            count = i['metric']['count']\n",
    "            amount = i['metric']['amount']\n",
    "            \n",
    "            insert_state_year_quarter(state,year,quarter,top_insurance_data)\n",
    "            \n",
    "            top_insurance_data['Pincodes'].append(pincode)\n",
    "            top_insurance_data['Policy_count'].append(count)\n",
    "            top_insurance_data['Policy_amount'].append(amount)"
   ]
  },
  {
   "cell_type": "code",
   "execution_count": 34,
   "id": "b6e1690e",
   "metadata": {},
   "outputs": [],
   "source": [
    "#Extract top transaction\n",
    "def top_transaction(state,year,quarter,year_json):\n",
    "    data = year_json['data']['pincodes']\n",
    "    if(data):\n",
    "        for i in data:\n",
    "            pincode = i['entityName']\n",
    "            count = i['metric']['count']\n",
    "            amount = i['metric']['amount']\n",
    "            \n",
    "            insert_state_year_quarter(state,year,quarter,top_transaction_data)\n",
    "\n",
    "            top_transaction_data['Pincodes'].append(pincode)\n",
    "            top_transaction_data['Transaction_count'].append(count)\n",
    "            top_transaction_data['Transaction_amount'].append(amount)"
   ]
  },
  {
   "cell_type": "code",
   "execution_count": 35,
   "id": "b909cbba",
   "metadata": {},
   "outputs": [],
   "source": [
    "#Extract top user\n",
    "def top_user(state,year,quarter,year_json):\n",
    "    data = year_json['data']['pincodes']\n",
    "    if(data):\n",
    "        for i in data:\n",
    "            pincode = i['name']\n",
    "            users = i['registeredUsers']\n",
    "            \n",
    "            insert_state_year_quarter(state,year,quarter,top_user_data)\n",
    "            \n",
    "            top_user_data['Pincodes'].append(pincode)\n",
    "            top_user_data['Registered_Users'].append(users)"
   ]
  },
  {
   "cell_type": "markdown",
   "id": "4a2373d6",
   "metadata": {},
   "source": [
    "<b>Accumulated extraction functions</b>\n",
    "\n",
    "This function makes a dictionary of the extraction functions so that it becomes easier to call each extraction function"
   ]
  },
  {
   "cell_type": "code",
   "execution_count": 36,
   "id": "1bff7044",
   "metadata": {},
   "outputs": [],
   "source": [
    "#Function to accumulate all the functions and call respective function\n",
    "\n",
    "#Check Invalid\n",
    "def invalid_extraction_op():\n",
    "    raise Exception(\"Invalid operation\") \n",
    "\n",
    "#Call the respective functions\n",
    "def perform_extraction(state,year,quarter,operation,year_json):\n",
    "    etl_functions = {\n",
    "    \"agg_insurance\": agg_insurance,\n",
    "    \"agg_transaction\": agg_transaction,\n",
    "    \"agg_user\":agg_user,\n",
    "    \"map_insurance\":map_insurance,\n",
    "    \"map_transaction\":map_transaction,\n",
    "    \"map_user\":map_user,\n",
    "    \"top_insurance\":top_insurance,\n",
    "    \"top_transaction\":top_transaction,\n",
    "    \"top_user\":top_user,\n",
    "    }\n",
    "\n",
    "    chosen_extraction_function = etl_functions.get(operation, invalid_extraction_op)\n",
    "\n",
    "    return chosen_extraction_function(state,year,quarter,year_json)"
   ]
  },
  {
   "cell_type": "markdown",
   "id": "3629cc61",
   "metadata": {},
   "source": [
    "<b>Function to iterate through the directories</b>\n",
    "\n",
    "This function takes a directory path and the extraction function name as parameter.\n",
    "It goes through the directories and sends the JSON file for extraction"
   ]
  },
  {
   "cell_type": "code",
   "execution_count": 37,
   "id": "b38c4e7a",
   "metadata": {},
   "outputs": [],
   "source": [
    "#Function to iterate and get the JSON file\n",
    "def iterate_through_files(directory,operation):\n",
    "        states_list = os.listdir(directory)\n",
    "\n",
    "        #Iterate through states list\n",
    "        for state in states_list:\n",
    "                #Get the state path\n",
    "                state_path = f'{directory}//{state}'\n",
    "                #List all the years\n",
    "                state_year = os.listdir(state_path)\n",
    "                #Iterate through year list\n",
    "                for year in state_year:\n",
    "                        #Get a year path\n",
    "                        year_path = f'{state_path}//{year}'\n",
    "                        #List all the files in the year folder\n",
    "                        filename_list = []\n",
    "                        for (dirpath, dirnames, files) in os.walk(year_path):\n",
    "                                filename_list.extend(files)\n",
    "                                break\n",
    "                        #Iterate for each json file\n",
    "                        for quarter_file in filename_list:\n",
    "                                #Get the file path\n",
    "                                quarter_path = f'{year_path}//{quarter_file}'\n",
    "                                #Extract the quarter from the file name\n",
    "                                quarter = int(Path(quarter_path).stem)\n",
    "                                #Read the json file\n",
    "                                year_json = read_json(quarter_path)\n",
    "                                #Function call for each file to enter it in the data dictionary\n",
    "                                perform_extraction(state,year,quarter,operation,year_json)\n"
   ]
  },
  {
   "cell_type": "markdown",
   "id": "61a223c1",
   "metadata": {},
   "source": [
    "<a id = 'entry_point'></a>"
   ]
  },
  {
   "cell_type": "markdown",
   "id": "65ae602e",
   "metadata": {},
   "source": [
    "<h3><center>*********<u>Entry Point of the program</u>*********</center></h3>\n"
   ]
  },
  {
   "cell_type": "markdown",
   "id": "4e79ef4f",
   "metadata": {},
   "source": [
    "<center>Run all the cell blocks above and the run this to start the process</center>"
   ]
  },
  {
   "cell_type": "markdown",
   "id": "6b3cccb9",
   "metadata": {},
   "source": [
    "<b>Calling the functions to iterate through the directories</b>\n",
    "\n",
    "1. Here we call the process function which:<br>\n",
    "        -> Calls the <i><u>iterate_through_files()</u></i> for all the directories.<br>\n",
    "        -> Then the extracted data is saved into the data dictionaries.<br>\n",
    "        -> After that the dictionary is saved to the csv file, and the dataframe returned is saved in a variable.<br>\n",
    "        -> Then all the dataframes is saved to a dictionary where the key is corresponding sql table name to make the insertion easier<br>\n",
    "This is the main entry point"
   ]
  },
  {
   "cell_type": "code",
   "execution_count": 38,
   "id": "d30efda2",
   "metadata": {},
   "outputs": [],
   "source": [
    "#Function call for iterating through the files\n",
    "\n",
    "dataframes = {} #Dictionary to save the dataframes\n",
    "\n",
    "def process(directory,file_dict,operation,filename):\n",
    "    iterate_through_files(get_directory(directory),operation)#iterate through the files\n",
    "    df =save_to_csv(file_dict,filename)                                   #save to csv file and get the dataframe\n",
    "    dataframes[operation] = df                                                #save dataframe to dictionary\n",
    "\n",
    "#Calling the process() function to extract\n",
    "process('aggregated/insurance',agg_insurance_data,'agg_insurance','Agg_insurance_table.csv')# #Aggregated insurance\n",
    "process('aggregated/transaction',agg_transaction_data,'agg_transaction','Agg_transaction_table.csv')# #Aggregated transaction\n",
    "process('aggregated/user',agg_user_data,'agg_user','Agg_user_table.csv')# #Aggregated user\n",
    "process('map/insurance/hover',map_insurance_data,'map_insurance','Map_insurance_table.csv')# #Map insurance\n",
    "process('map/transaction/hover',map_transaction_data,'map_transaction','Map_transaction_table.csv')# #Map transaction \n",
    "process('map/user/hover',map_user_data,'map_user','Map_user_table.csv')# #Map user\n",
    "process('top/insurance',top_insurance_data,'top_insurance','Top_insurance_table.csv')# #Top insurance\n",
    "process('top/transaction',top_transaction_data,'top_transaction','Top_transaction_table.csv')# #Top transaction\n",
    "process('top/user',top_user_data,'top_user','Top_user_table.csv')# #Top user\n"
   ]
  },
  {
   "cell_type": "markdown",
   "id": "eb427947",
   "metadata": {},
   "source": [
    "<h1><center>SQL PROCESSING</center></h1>"
   ]
  },
  {
   "cell_type": "markdown",
   "id": "73328b5a",
   "metadata": {},
   "source": [
    "<b>Connect to Database</b>"
   ]
  },
  {
   "cell_type": "code",
   "execution_count": 39,
   "id": "78a12ec7",
   "metadata": {},
   "outputs": [],
   "source": [
    "#Connecting to the database\n",
    "mydb = sql.connect(host=\"localhost\",\n",
    "                user=\"root\",\n",
    "                password=\"root\",\n",
    "                )\n",
    "mycursor = mydb.cursor(buffered=True)"
   ]
  },
  {
   "cell_type": "markdown",
   "id": "adb239b1",
   "metadata": {},
   "source": [
    "<b>Create database</b>"
   ]
  },
  {
   "cell_type": "code",
   "execution_count": 40,
   "id": "5432c540",
   "metadata": {},
   "outputs": [],
   "source": [
    "#Creating Database\n",
    "query = 'Create database if not exists phonepe_pulse'\n",
    "mycursor.execute(query)"
   ]
  },
  {
   "cell_type": "markdown",
   "id": "672ce45f",
   "metadata": {},
   "source": [
    "<h3><center>CREATE TABLES</center></h3>\n",
    "\n",
    "1. Defining the database to be used<br>\n",
    "\n",
    "2. Making a dictionary with all the tablenames as key and the fields which are not common for the create table function.<br>\n",
    "\n",
    "3. Function definition to create the tables all together and function call to create the table."
   ]
  },
  {
   "cell_type": "code",
   "execution_count": 41,
   "id": "37d690ed",
   "metadata": {},
   "outputs": [],
   "source": [
    "#Defining the database to be used\n",
    "mycursor.execute('Use phonepe_pulse')"
   ]
  },
  {
   "cell_type": "code",
   "execution_count": 42,
   "id": "ec76f007",
   "metadata": {},
   "outputs": [],
   "source": [
    "#Dictionary with a key of tablename and there not common fields\n",
    "tablenames = {\n",
    "    'agg_insurance':'Policy_count float,Policy_amount double',\n",
    "    'agg_transaction':'Transaction_type varchar(100),Transaction_count float,Transaction_amount double',\n",
    "    'agg_user':'Brand varchar(100),Registered_Users_per_brand float,Percentage double',\n",
    "    'map_insurance':'District varchar(100),Policy_count float,Policy_amount double',\n",
    "    'map_transaction':'District varchar(100),Transaction_count float,Transaction_amount double',\n",
    "    'map_user':'District varchar(100),Registered_User float,App_opens float',\n",
    "    'top_insurance':'Pincode int,Policy_count float,Policy_amount double',\n",
    "    'top_transaction':'Pincode int,Transaction_count float,Transaction_amount double',\n",
    "    'top_user':'Pincode int,Registered_User float'\n",
    "}"
   ]
  },
  {
   "cell_type": "code",
   "execution_count": 43,
   "id": "235b5b30",
   "metadata": {},
   "outputs": [],
   "source": [
    "#Function to crate all tables together in database\n",
    "def create_table(table_name):\n",
    "    for key,value in table_name.items():\n",
    "        query = f'create table if not exists {key} (State varchar(100), Year int, Quarter int,{value})'\n",
    "        mycursor.execute(query)"
   ]
  },
  {
   "cell_type": "code",
   "execution_count": 44,
   "id": "b0868292",
   "metadata": {},
   "outputs": [],
   "source": [
    "#Function call to create all the tables\n",
    "create_table(tablenames)"
   ]
  },
  {
   "cell_type": "markdown",
   "id": "742c8826",
   "metadata": {},
   "source": [
    "<h3><center>INSERT QUERIES</center></h3>\n",
    "\n",
    "1. First block uses the dataframes{} dictionary to insert data in all the tables together.<br>\n",
    "\n",
    "2. Second block shows how to insert in a single table at a time for debugging purposes"
   ]
  },
  {
   "cell_type": "code",
   "execution_count": 45,
   "id": "f6e97e87",
   "metadata": {},
   "outputs": [],
   "source": [
    "#Insert query to insert data into all the table in one loop(RECOMMENDED)\n",
    "for key,value in dataframes.items():\n",
    "    for index,row in value.iterrows():\n",
    "        value_part = '(' + ', '.join(['%s'] * value.shape[1]) + ')'\n",
    "        query = f'insert into {key} values {value_part}'\n",
    "        mycursor.execute(query, tuple(row))\n",
    "        mydb.commit()\n"
   ]
  },
  {
   "cell_type": "code",
   "execution_count": 46,
   "id": "dfbc2b7c",
   "metadata": {},
   "outputs": [],
   "source": [
    "# #Insert query to insert data into the individual table(OPTIONAL)\n",
    "# for j,row in dataframes['map_user'].iterrows():\n",
    "#     value_part = '(' + ', '.join(['%s'] * len(row)) + ')'\n",
    "#     query = f'insert into map_user values {value_part}'\n",
    "#     mycursor.execute(query, tuple(row))\n",
    "#     mydb.commit()"
   ]
  },
  {
   "cell_type": "code",
   "execution_count": 6,
   "id": "00688382",
   "metadata": {},
   "outputs": [
    {
     "data": {
      "text/plain": [
       "{'ST_NM': 'Arunachal Pradesh'}"
      ]
     },
     "execution_count": 6,
     "metadata": {},
     "output_type": "execute_result"
    }
   ],
   "source": [
    "import pandas as pd\n",
    "\n",
    "df = pd.read_json('assets/india_states.geojson')\n",
    "df['features'][0]['properties']"
   ]
  }
 ],
 "metadata": {
  "kernelspec": {
   "display_name": "Python 3 (ipykernel)",
   "language": "python",
   "name": "python3"
  },
  "language_info": {
   "codemirror_mode": {
    "name": "ipython",
    "version": 3
   },
   "file_extension": ".py",
   "mimetype": "text/x-python",
   "name": "python",
   "nbconvert_exporter": "python",
   "pygments_lexer": "ipython3",
   "version": "3.12.2"
  }
 },
 "nbformat": 4,
 "nbformat_minor": 5
}
